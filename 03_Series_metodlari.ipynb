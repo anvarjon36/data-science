{
  "nbformat": 4,
  "nbformat_minor": 0,
  "metadata": {
    "colab": {
      "name": "02_Lug'atdan_Series_yaratish",
      "provenance": [],
      "collapsed_sections": [],
      "authorship_tag": "ABX9TyPNLZRPA/wSizT+U5k3Kva/",
      "include_colab_link": true
    },
    "kernelspec": {
      "name": "python3",
      "display_name": "Python 3"
    },
    "language_info": {
      "name": "python"
    }
  },
  "cells": [
    {
      "cell_type": "markdown",
      "metadata": {
        "id": "view-in-github",
        "colab_type": "text"
      },
      "source": [
        "<a href=\"https://colab.research.google.com/github/anvarjon36/data-science/blob/main/03_Series_metodlari.ipynb\" target=\"_parent\"><img src=\"https://colab.research.google.com/assets/colab-badge.svg\" alt=\"Open In Colab\"/></a>"
      ]
    },
    {
      "cell_type": "markdown",
      "source": [
        "# Data Science va Sun'iy intellekt praktikum\n",
        "Ma'lumotlar tahlili. Pandas kutubxonasi\n",
        "\n",
        "2.2 Pandas kutubxonasi bilan tanishuv"
      ],
      "metadata": {
        "id": "DfL6eHlWPbPB"
      }
    },
    {
      "cell_type": "code",
      "execution_count": 1,
      "metadata": {
        "id": "u-Sl159iPPdZ"
      },
      "outputs": [],
      "source": [
        "import pandas as pd"
      ]
    },
    {
      "cell_type": "code",
      "source": [
        "import numpy as np"
      ],
      "metadata": {
        "id": "zbfI19DzP7wI"
      },
      "execution_count": 2,
      "outputs": []
    },
    {
      "cell_type": "markdown",
      "source": [
        "Pandas da 2 ta ma'lumotlar tuzilmasi mavjud: Series va DataFrame.\n",
        "\n",
        "Series yordamida ma'lumotlarni saqlash mumkin. Python da har qanday ma'lumot -- **obyekt** deyiladi"
      ],
      "metadata": {
        "id": "KijcV3yzXRBS"
      }
    },
    {
      "cell_type": "code",
      "source": [
        "from pandas import Series"
      ],
      "metadata": {
        "id": "5qFzzuheW62I"
      },
      "execution_count": 3,
      "outputs": []
    },
    {
      "cell_type": "code",
      "source": [
        "obj = Series([4, 5, 6, -6.5])"
      ],
      "metadata": {
        "id": "UDmlAIlQXEQX"
      },
      "execution_count": 4,
      "outputs": []
    },
    {
      "cell_type": "code",
      "source": [
        "type(obj)"
      ],
      "metadata": {
        "colab": {
          "base_uri": "https://localhost:8080/"
        },
        "id": "5Mt466ehX1Ch",
        "outputId": "a2d533da-5c6d-4dc9-bf9d-a154b036600c"
      },
      "execution_count": 5,
      "outputs": [
        {
          "output_type": "execute_result",
          "data": {
            "text/plain": [
              "pandas.core.series.Series"
            ]
          },
          "metadata": {},
          "execution_count": 5
        }
      ]
    },
    {
      "cell_type": "code",
      "source": [
        "print(obj)"
      ],
      "metadata": {
        "colab": {
          "base_uri": "https://localhost:8080/"
        },
        "id": "gHK8c80KX2oX",
        "outputId": "d3b53e3d-97cd-4e19-f1c6-900a1e4070eb"
      },
      "execution_count": 6,
      "outputs": [
        {
          "output_type": "stream",
          "name": "stdout",
          "text": [
            "0    4.0\n",
            "1    5.0\n",
            "2    6.0\n",
            "3   -6.5\n",
            "dtype: float64\n"
          ]
        }
      ]
    },
    {
      "cell_type": "code",
      "source": [
        "obj.values"
      ],
      "metadata": {
        "colab": {
          "base_uri": "https://localhost:8080/"
        },
        "id": "gnLAPcycX4lg",
        "outputId": "f7410371-d947-4da8-c5f1-0b5766f93012"
      },
      "execution_count": 7,
      "outputs": [
        {
          "output_type": "execute_result",
          "data": {
            "text/plain": [
              "array([ 4. ,  5. ,  6. , -6.5])"
            ]
          },
          "metadata": {},
          "execution_count": 7
        }
      ]
    },
    {
      "cell_type": "code",
      "source": [
        "obj.index"
      ],
      "metadata": {
        "colab": {
          "base_uri": "https://localhost:8080/"
        },
        "id": "URK7l2g7X7Kf",
        "outputId": "0e5e152f-6f81-48d8-9d7a-3514c3e41409"
      },
      "execution_count": 8,
      "outputs": [
        {
          "output_type": "execute_result",
          "data": {
            "text/plain": [
              "RangeIndex(start=0, stop=4, step=1)"
            ]
          },
          "metadata": {},
          "execution_count": 8
        }
      ]
    },
    {
      "cell_type": "code",
      "source": [
        "obj[0]"
      ],
      "metadata": {
        "colab": {
          "base_uri": "https://localhost:8080/"
        },
        "id": "4mKvNJZCX95f",
        "outputId": "f891e7b4-00fc-4a56-de37-130dd7b99e22"
      },
      "execution_count": 9,
      "outputs": [
        {
          "output_type": "execute_result",
          "data": {
            "text/plain": [
              "4.0"
            ]
          },
          "metadata": {},
          "execution_count": 9
        }
      ]
    },
    {
      "cell_type": "markdown",
      "source": [
        "! **Series** ning **ro'yxat**dan farqi - *Index* larni biz berishimiz mumkin:"
      ],
      "metadata": {
        "id": "OVMmTW7yYmkN"
      }
    },
    {
      "cell_type": "code",
      "source": [
        "obj2 = Series([6, 3, 2, 1], index = ['a', 'b', 'c', 'd'])\n",
        "obj2"
      ],
      "metadata": {
        "colab": {
          "base_uri": "https://localhost:8080/"
        },
        "id": "mE4Z-Oo5YAf_",
        "outputId": "3e2af79f-812f-47f6-bfcc-d41fcec40735"
      },
      "execution_count": 10,
      "outputs": [
        {
          "output_type": "execute_result",
          "data": {
            "text/plain": [
              "a    6\n",
              "b    3\n",
              "c    2\n",
              "d    1\n",
              "dtype: int64"
            ]
          },
          "metadata": {},
          "execution_count": 10
        }
      ]
    },
    {
      "cell_type": "code",
      "source": [
        "obj2.index"
      ],
      "metadata": {
        "colab": {
          "base_uri": "https://localhost:8080/"
        },
        "id": "0nm2C3Z-Zfx8",
        "outputId": "889f2b9f-4be6-4750-ae03-1b0b8343523d"
      },
      "execution_count": 11,
      "outputs": [
        {
          "output_type": "execute_result",
          "data": {
            "text/plain": [
              "Index(['a', 'b', 'c', 'd'], dtype='object')"
            ]
          },
          "metadata": {},
          "execution_count": 11
        }
      ]
    },
    {
      "cell_type": "markdown",
      "source": [
        "! Ba'zi index larga murojaat:"
      ],
      "metadata": {
        "id": "rS5bKZCTZmd9"
      }
    },
    {
      "cell_type": "code",
      "source": [
        "obj2['a'] # bitta indeksga murojaat"
      ],
      "metadata": {
        "colab": {
          "base_uri": "https://localhost:8080/"
        },
        "id": "rtwkEVAQZjIh",
        "outputId": "a025c63f-9239-4e90-ea4e-ed1dcf7d87e5"
      },
      "execution_count": 12,
      "outputs": [
        {
          "output_type": "execute_result",
          "data": {
            "text/plain": [
              "6"
            ]
          },
          "metadata": {},
          "execution_count": 12
        }
      ]
    },
    {
      "cell_type": "code",
      "source": [
        "obj2[['d','b','a']] # bir nechta indeksga murojaat, bunda indekslar ro'yxat tarzida uzatiladi"
      ],
      "metadata": {
        "colab": {
          "base_uri": "https://localhost:8080/"
        },
        "id": "V5PTXUxRa0kk",
        "outputId": "9f442fb4-6d48-49ee-9ee7-f3872d018027"
      },
      "execution_count": 13,
      "outputs": [
        {
          "output_type": "execute_result",
          "data": {
            "text/plain": [
              "d    1\n",
              "b    3\n",
              "a    6\n",
              "dtype: int64"
            ]
          },
          "metadata": {},
          "execution_count": 13
        }
      ]
    },
    {
      "cell_type": "markdown",
      "source": [
        "Turli arifmetik amallar:"
      ],
      "metadata": {
        "id": "zlmqBCwdcG8A"
      }
    },
    {
      "cell_type": "code",
      "source": [
        "obj2[obj2<3] # Filtrlash. obj2 dagi 3 dan kichik qiymatlar"
      ],
      "metadata": {
        "colab": {
          "base_uri": "https://localhost:8080/"
        },
        "id": "OuRpW5Tba5P7",
        "outputId": "30f887da-36e6-435a-c23c-499cd43682ad"
      },
      "execution_count": 14,
      "outputs": [
        {
          "output_type": "execute_result",
          "data": {
            "text/plain": [
              "c    2\n",
              "d    1\n",
              "dtype: int64"
            ]
          },
          "metadata": {},
          "execution_count": 14
        }
      ]
    },
    {
      "cell_type": "code",
      "source": [
        "obj2 * 3"
      ],
      "metadata": {
        "colab": {
          "base_uri": "https://localhost:8080/"
        },
        "id": "rgPUaTjqcNSV",
        "outputId": "1159afee-26b5-4a66-ffae-6d0f2b65d97f"
      },
      "execution_count": 15,
      "outputs": [
        {
          "output_type": "execute_result",
          "data": {
            "text/plain": [
              "a    18\n",
              "b     9\n",
              "c     6\n",
              "d     3\n",
              "dtype: int64"
            ]
          },
          "metadata": {},
          "execution_count": 15
        }
      ]
    },
    {
      "cell_type": "code",
      "source": [
        "np.exp(obj2)"
      ],
      "metadata": {
        "colab": {
          "base_uri": "https://localhost:8080/"
        },
        "id": "ciRt8s1WcYjl",
        "outputId": "a10b8ee2-abc9-47e7-c298-bd87b9bfac6f"
      },
      "execution_count": 16,
      "outputs": [
        {
          "output_type": "execute_result",
          "data": {
            "text/plain": [
              "a    403.428793\n",
              "b     20.085537\n",
              "c      7.389056\n",
              "d      2.718282\n",
              "dtype: float64"
            ]
          },
          "metadata": {},
          "execution_count": 16
        }
      ]
    },
    {
      "cell_type": "markdown",
      "source": [
        "# Lug'atdan Series yaratish\n",
        "\n",
        "Series obyektiga e'tibor bersangiz: indeks va qiymatdan tashkil topgan bo'lib, pythondagi lug'at (dict) ga o'xshab ketadi. Ya'ni, Series obyektini dict dan yaratsak ham bo'ladi."
      ],
      "metadata": {
        "id": "wmXcOENItEZX"
      }
    },
    {
      "cell_type": "code",
      "source": [
        "cars_dict = {'Malibu':40000, 'Lacetti':20000, 'Toyota':45000, 'Mazda':52000, 'Honda':38000}"
      ],
      "metadata": {
        "id": "M6A4gcu0ccu9"
      },
      "execution_count": 17,
      "outputs": []
    },
    {
      "cell_type": "code",
      "source": [
        "type(cars_dict) # cars_dict ma'lumot turi"
      ],
      "metadata": {
        "colab": {
          "base_uri": "https://localhost:8080/"
        },
        "id": "f_Nlf_JhuNhp",
        "outputId": "d92c8789-f7fc-4f87-aa90-60419a960c22"
      },
      "execution_count": 18,
      "outputs": [
        {
          "output_type": "execute_result",
          "data": {
            "text/plain": [
              "dict"
            ]
          },
          "metadata": {},
          "execution_count": 18
        }
      ]
    },
    {
      "cell_type": "code",
      "source": [
        "cars1 = Series(cars_dict) # Lug'atdan Series yaratyapmiz"
      ],
      "metadata": {
        "id": "QvtGz732uPyW"
      },
      "execution_count": 19,
      "outputs": []
    },
    {
      "cell_type": "code",
      "source": [
        "cars1"
      ],
      "metadata": {
        "colab": {
          "base_uri": "https://localhost:8080/"
        },
        "id": "qkHwJ4m3uVkn",
        "outputId": "d3a7af43-e9cc-4d99-d225-5c709ae6bb1d"
      },
      "execution_count": 20,
      "outputs": [
        {
          "output_type": "execute_result",
          "data": {
            "text/plain": [
              "Malibu     40000\n",
              "Lacetti    20000\n",
              "Toyota     45000\n",
              "Mazda      52000\n",
              "Honda      38000\n",
              "dtype: int64"
            ]
          },
          "metadata": {},
          "execution_count": 20
        }
      ]
    },
    {
      "cell_type": "code",
      "source": [
        "type(cars1)"
      ],
      "metadata": {
        "colab": {
          "base_uri": "https://localhost:8080/"
        },
        "id": "Un9PVfy2uiX-",
        "outputId": "3e19f5d0-ce08-4ff6-9db9-b6fa27977664"
      },
      "execution_count": 21,
      "outputs": [
        {
          "output_type": "execute_result",
          "data": {
            "text/plain": [
              "pandas.core.series.Series"
            ]
          },
          "metadata": {},
          "execution_count": 21
        }
      ]
    },
    {
      "cell_type": "code",
      "source": [
        "'Malibu' in cars1 # cars1 ichida Malibu indeksi bormi?"
      ],
      "metadata": {
        "colab": {
          "base_uri": "https://localhost:8080/"
        },
        "id": "569jBl3zumxv",
        "outputId": "02f1bd29-ec66-4267-d208-1a0a52466992"
      },
      "execution_count": 22,
      "outputs": [
        {
          "output_type": "execute_result",
          "data": {
            "text/plain": [
              "True"
            ]
          },
          "metadata": {},
          "execution_count": 22
        }
      ]
    },
    {
      "cell_type": "code",
      "source": [
        "'BMW' in cars1"
      ],
      "metadata": {
        "colab": {
          "base_uri": "https://localhost:8080/"
        },
        "id": "dJxSsZKyxlXS",
        "outputId": "bfcf00bf-98c5-4a63-9916-2f74b1e1e09c"
      },
      "execution_count": 23,
      "outputs": [
        {
          "output_type": "execute_result",
          "data": {
            "text/plain": [
              "False"
            ]
          },
          "metadata": {},
          "execution_count": 23
        }
      ]
    },
    {
      "cell_type": "code",
      "source": [
        "cars1['Toyota'] # indeks qiymatini ko'rish"
      ],
      "metadata": {
        "colab": {
          "base_uri": "https://localhost:8080/"
        },
        "id": "3_0Lmbhqxui0",
        "outputId": "26131b9a-4211-460d-ee94-af403c96cb7b"
      },
      "execution_count": 24,
      "outputs": [
        {
          "output_type": "execute_result",
          "data": {
            "text/plain": [
              "45000"
            ]
          },
          "metadata": {},
          "execution_count": 24
        }
      ]
    },
    {
      "cell_type": "markdown",
      "source": [
        "Indekslar tartibini mustaqil berish"
      ],
      "metadata": {
        "id": "e19_HXRNyCEo"
      }
    },
    {
      "cell_type": "code",
      "source": [
        "models = ['Honda','Mazda','Lacetti','Jaguar','Malibu','Toyota','BMW','Mercedes']"
      ],
      "metadata": {
        "id": "ejzIU28ox5vq"
      },
      "execution_count": 29,
      "outputs": []
    },
    {
      "cell_type": "code",
      "source": [
        "cars2 = Series(cars_dict, index=models) # lug'atdan indekslari biz bergan tartibdagi series yaratish"
      ],
      "metadata": {
        "id": "Y-LiQyhYypyE"
      },
      "execution_count": 30,
      "outputs": []
    },
    {
      "cell_type": "code",
      "source": [
        "cars2"
      ],
      "metadata": {
        "colab": {
          "base_uri": "https://localhost:8080/"
        },
        "id": "KuSEAvyUAgxj",
        "outputId": "3d4444c0-5152-4593-d35d-1c59feec8a74"
      },
      "execution_count": 31,
      "outputs": [
        {
          "output_type": "execute_result",
          "data": {
            "text/plain": [
              "Honda       38000.0\n",
              "Mazda       52000.0\n",
              "Lacetti     20000.0\n",
              "Jaguar          NaN\n",
              "Malibu      40000.0\n",
              "Toyota      45000.0\n",
              "BMW             NaN\n",
              "Mercedes        NaN\n",
              "dtype: float64"
            ]
          },
          "metadata": {},
          "execution_count": 31
        }
      ]
    },
    {
      "cell_type": "markdown",
      "source": [
        "Mavjud bo'lmagan indeks qiymati NaN bilan to'ldiriladi"
      ],
      "metadata": {
        "id": "GCVbi9PrAuXi"
      }
    },
    {
      "cell_type": "code",
      "source": [
        ""
      ],
      "metadata": {
        "id": "0lxZTZK5Ar7a"
      },
      "execution_count": null,
      "outputs": []
    }
  ]
}